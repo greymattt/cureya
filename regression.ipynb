{
  "nbformat": 4,
  "nbformat_minor": 0,
  "metadata": {
    "colab": {
      "name": "regression.ipynb",
      "provenance": [],
      "collapsed_sections": [],
      "authorship_tag": "ABX9TyN1EOH70W1UjafaDD+kl4sj",
      "include_colab_link": true
    },
    "kernelspec": {
      "name": "python3",
      "display_name": "Python 3"
    },
    "language_info": {
      "name": "python"
    }
  },
  "cells": [
    {
      "cell_type": "markdown",
      "metadata": {
        "id": "view-in-github",
        "colab_type": "text"
      },
      "source": [
        "<a href=\"https://colab.research.google.com/github/greymattt/cureya/blob/master/regression.ipynb\" target=\"_parent\"><img src=\"https://colab.research.google.com/assets/colab-badge.svg\" alt=\"Open In Colab\"/></a>"
      ]
    },
    {
      "cell_type": "code",
      "metadata": {
        "id": "wDZKpss05tut",
        "colab": {
          "base_uri": "https://localhost:8080/"
        },
        "outputId": "fdb642c4-6c35-410e-f3ab-5b50e3a53a6e"
      },
      "source": [
        "!pip install Quandl"
      ],
      "execution_count": null,
      "outputs": [
        {
          "output_type": "stream",
          "text": [
            "Requirement already satisfied: Quandl in /usr/local/lib/python3.7/dist-packages (3.6.1)\n",
            "Requirement already satisfied: numpy>=1.8 in /usr/local/lib/python3.7/dist-packages (from Quandl) (1.19.5)\n",
            "Requirement already satisfied: pandas>=0.14 in /usr/local/lib/python3.7/dist-packages (from Quandl) (1.1.5)\n",
            "Requirement already satisfied: python-dateutil in /usr/local/lib/python3.7/dist-packages (from Quandl) (2.8.1)\n",
            "Requirement already satisfied: inflection>=0.3.1 in /usr/local/lib/python3.7/dist-packages (from Quandl) (0.5.1)\n",
            "Requirement already satisfied: six in /usr/local/lib/python3.7/dist-packages (from Quandl) (1.15.0)\n",
            "Requirement already satisfied: more-itertools in /usr/local/lib/python3.7/dist-packages (from Quandl) (8.8.0)\n",
            "Requirement already satisfied: requests>=2.7.0 in /usr/local/lib/python3.7/dist-packages (from Quandl) (2.23.0)\n",
            "Requirement already satisfied: pytz>=2017.2 in /usr/local/lib/python3.7/dist-packages (from pandas>=0.14->Quandl) (2018.9)\n",
            "Requirement already satisfied: idna<3,>=2.5 in /usr/local/lib/python3.7/dist-packages (from requests>=2.7.0->Quandl) (2.10)\n",
            "Requirement already satisfied: urllib3!=1.25.0,!=1.25.1,<1.26,>=1.21.1 in /usr/local/lib/python3.7/dist-packages (from requests>=2.7.0->Quandl) (1.24.3)\n",
            "Requirement already satisfied: certifi>=2017.4.17 in /usr/local/lib/python3.7/dist-packages (from requests>=2.7.0->Quandl) (2021.5.30)\n",
            "Requirement already satisfied: chardet<4,>=3.0.2 in /usr/local/lib/python3.7/dist-packages (from requests>=2.7.0->Quandl) (3.0.4)\n"
          ],
          "name": "stdout"
        }
      ]
    },
    {
      "cell_type": "code",
      "metadata": {
        "colab": {
          "base_uri": "https://localhost:8080/"
        },
        "id": "-iogQWhH4uLh",
        "outputId": "5a1a2ea7-22db-4258-a51a-b536ecc342d4"
      },
      "source": [
        "import quandl\n",
        "import pandas as pd\n",
        "import math\n",
        "import numpy as np\n",
        "from sklearn import preprocessing, svm\n",
        "from sklearn.linear_model import LinearRegression\n",
        "\n",
        "\n",
        "df = quandl.get(\"WIKI/GOOGL\")\n",
        "df = df[['Adj. Open',  'Adj. High',  'Adj. Low',  'Adj. Close', 'Adj. Volume']]\n",
        "df['HL_PCT'] = (df['Adj. High'] - df['Adj. Low']) / df['Adj. Close'] * 100.0\n",
        "df['PCT_change'] = (df['Adj. Close'] - df['Adj. Open']) / df['Adj. Open'] * 100.0\n",
        "df = df[['Adj. Close', 'HL_PCT', 'PCT_change', 'Adj. Volume']]\n",
        "\n",
        "forecast_col = 'Adj. Close'\n",
        "df.fillna(-99999, inplace=True)\n",
        "\n",
        "forecast_out = int(math.ceil(0.01*len(df)))\n",
        "\n",
        "df['label'] = df[forecast_col].shift(-forecast_out)\n",
        "df.dropna(inplace=True)\n",
        "\n",
        "X = np.array(df.drop(['label'], 1))\n",
        "y = np.array(df['label'])\n",
        "\n",
        "X = preprocessing.scale(X)\n",
        "X = X[:-forecast_out+1]\n",
        "df.dropna(inplace=True)\n",
        "y = np.array(df['label'])\n",
        "print(len(X), len(y))\n",
        "\n"
      ],
      "execution_count": 14,
      "outputs": [
        {
          "output_type": "stream",
          "text": [
            "3355 3389\n"
          ],
          "name": "stdout"
        }
      ]
    }
  ]
}