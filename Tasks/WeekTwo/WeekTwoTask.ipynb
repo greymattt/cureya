{
  "nbformat": 4,
  "nbformat_minor": 0,
  "metadata": {
    "colab": {
      "name": "week-1-task.ipynb",
      "provenance": [],
      "collapsed_sections": []
    },
    "kernelspec": {
      "name": "python3",
      "display_name": "Python 3"
    },
    "language_info": {
      "name": "python"
    }
  },
  "cells": [
    {
      "cell_type": "markdown",
      "metadata": {
        "id": "_C4-THYq0rIp"
      },
      "source": [
        "1. Get familiar with colab\n",
        "<br>\n",
        "Done"
      ]
    },
    {
      "cell_type": "markdown",
      "metadata": {
        "id": "OF5ryxmb07nc"
      },
      "source": [
        "2. Make github account\n",
        "<br>\n",
        "Done"
      ]
    },
    {
      "cell_type": "markdown",
      "metadata": {
        "id": "zf7GpRCL09yD"
      },
      "source": [
        "3. Define\n",
        "\n",
        "Dictionaries\n",
        "<br>\n",
        "Dictionaries are an ordered collection of data values in a form of key-value pairs. The dictionaries are defined within `{}` braces.\n",
        "Example: `{1:'One', 2:'Two'}\n",
        "`\n",
        "<br><br>\n",
        "Lists\n",
        "<br>\n",
        "Lists are an ordered sequence of different data values seperated by commas withing squared brackets `[]`. Lists are mutable and can contain heterogeneous data types i.e. can contain different types of data types.\n",
        "Example: `[1, 'One', [3,4], (5,6)]`\n",
        "<br><br>\n",
        "Tuples\n",
        "<br>\n",
        "Tuples are similar to lists. Tuples are also an ordered sequence of data values seperated by commas and can contain different data types. The two differences are, Tuples are immutable data type and the values are contained withing `()` brackets.\n",
        "Example: `(1, 'Two', [3,4], (5,6))`\n",
        "<br><br>\n",
        "Sets\n",
        "<br>\n",
        "Unline Dictionaries, Lists, and Tuples, Sets are unordered and unindexed data type. Sets are contain comma seperated values within `{}` brackets. and unlike the other sequence data types sets cannot contain duplicate datas i.e. in a set containing `{1,2,3,4}` another `1` cannot be added."
      ]
    },
    {
      "cell_type": "markdown",
      "metadata": {
        "id": "wyo3pcM97VCq"
      },
      "source": [
        "4. Read CSV file"
      ]
    },
    {
      "cell_type": "code",
      "metadata": {
        "colab": {
          "base_uri": "https://localhost:8080/",
          "height": 504
        },
        "id": "CctGi_fm6Pyj",
        "outputId": "179fe260-1efa-447b-af0d-fbde0e27c011"
      },
      "source": [
        "import pandas as pd\n",
        "df = pd.read_csv('dataset.csv')\n",
        "df.head()"
      ],
      "execution_count": null,
      "outputs": [
        {
          "output_type": "execute_result",
          "data": {
            "text/html": [
              "<div>\n",
              "<style scoped>\n",
              "    .dataframe tbody tr th:only-of-type {\n",
              "        vertical-align: middle;\n",
              "    }\n",
              "\n",
              "    .dataframe tbody tr th {\n",
              "        vertical-align: top;\n",
              "    }\n",
              "\n",
              "    .dataframe thead th {\n",
              "        text-align: right;\n",
              "    }\n",
              "</style>\n",
              "<table border=\"1\" class=\"dataframe\">\n",
              "  <thead>\n",
              "    <tr style=\"text-align: right;\">\n",
              "      <th></th>\n",
              "      <th>UNIVERSITY NAME</th>\n",
              "      <th>NAME OF MASTER PROGRAM</th>\n",
              "      <th>COUNTRY</th>\n",
              "      <th>CITY</th>\n",
              "      <th>LANG.</th>\n",
              "      <th>SEMESTER</th>\n",
              "      <th>Tuition fee(€)/SEMESTER</th>\n",
              "      <th>APPLY</th>\n",
              "      <th>START</th>\n",
              "      <th>REQUIREMENT</th>\n",
              "      <th>WEBSITE</th>\n",
              "    </tr>\n",
              "  </thead>\n",
              "  <tbody>\n",
              "    <tr>\n",
              "      <th>0</th>\n",
              "      <td>University of Bozen-Bolzano</td>\n",
              "      <td>Software Engineering for Information Systems</td>\n",
              "      <td>Italy</td>\n",
              "      <td>Bozen</td>\n",
              "      <td>English</td>\n",
              "      <td>4.0</td>\n",
              "      <td>375.0</td>\n",
              "      <td>01/04/22</td>\n",
              "      <td>01/09/22</td>\n",
              "      <td>ENG-C1</td>\n",
              "      <td>https://www.unibz.it/en/faculties/computer-sci...</td>\n",
              "    </tr>\n",
              "    <tr>\n",
              "      <th>1</th>\n",
              "      <td>University of Bozen-Bolzano</td>\n",
              "      <td>Computational Data Science</td>\n",
              "      <td>Italy</td>\n",
              "      <td>Bozen</td>\n",
              "      <td>English</td>\n",
              "      <td>4.0</td>\n",
              "      <td>374.0</td>\n",
              "      <td>01/04/22</td>\n",
              "      <td>01/09/22</td>\n",
              "      <td>ENG-C1</td>\n",
              "      <td>https://www.unibz.it/en/faculties/computer-sci...</td>\n",
              "    </tr>\n",
              "    <tr>\n",
              "      <th>2</th>\n",
              "      <td>Università Cattolica del Sacro Cuore</td>\n",
              "      <td>Data Analytics for Business</td>\n",
              "      <td>Italy</td>\n",
              "      <td>Milano</td>\n",
              "      <td>English</td>\n",
              "      <td>4.0</td>\n",
              "      <td>NaN</td>\n",
              "      <td>NaN</td>\n",
              "      <td>01/09/21</td>\n",
              "      <td>NaN</td>\n",
              "      <td>https://offertaformativa.unicatt.it/cdl-data-a...</td>\n",
              "    </tr>\n",
              "    <tr>\n",
              "      <th>3</th>\n",
              "      <td>Ca' Foscari University of Venice</td>\n",
              "      <td>Computer Science</td>\n",
              "      <td>Italy</td>\n",
              "      <td>Venice</td>\n",
              "      <td>English</td>\n",
              "      <td>4.0</td>\n",
              "      <td>1050.0</td>\n",
              "      <td>01/05/22</td>\n",
              "      <td>01/09/22</td>\n",
              "      <td>ENG-B2</td>\n",
              "      <td>https://www.studyatcafoscari.com/programmes/gr...</td>\n",
              "    </tr>\n",
              "    <tr>\n",
              "      <th>4</th>\n",
              "      <td>University of Siena</td>\n",
              "      <td>Artificial Intelligence and Automation Enginee...</td>\n",
              "      <td>Italy</td>\n",
              "      <td>Siena</td>\n",
              "      <td>English</td>\n",
              "      <td>4.0</td>\n",
              "      <td>NaN</td>\n",
              "      <td>NaN</td>\n",
              "      <td>01/10/21</td>\n",
              "      <td>IELTS6.5</td>\n",
              "      <td>https://www.unisi-international.com/programmes...</td>\n",
              "    </tr>\n",
              "  </tbody>\n",
              "</table>\n",
              "</div>"
            ],
            "text/plain": [
              "                        UNIVERSITY NAME  ...                                            WEBSITE\n",
              "0           University of Bozen-Bolzano  ...  https://www.unibz.it/en/faculties/computer-sci...\n",
              "1           University of Bozen-Bolzano  ...  https://www.unibz.it/en/faculties/computer-sci...\n",
              "2  Università Cattolica del Sacro Cuore  ...  https://offertaformativa.unicatt.it/cdl-data-a...\n",
              "3      Ca' Foscari University of Venice  ...  https://www.studyatcafoscari.com/programmes/gr...\n",
              "4                   University of Siena  ...  https://www.unisi-international.com/programmes...\n",
              "\n",
              "[5 rows x 11 columns]"
            ]
          },
          "metadata": {
            "tags": []
          },
          "execution_count": 1
        }
      ]
    },
    {
      "cell_type": "markdown",
      "metadata": {
        "id": "gLAxXZmM7YU0"
      },
      "source": [
        "5. Numpy"
      ]
    },
    {
      "cell_type": "markdown",
      "metadata": {
        "id": "EMYva6Bh7agp"
      },
      "source": [
        "Question 1\n",
        "<br>\n",
        "Create an array of 10 fives"
      ]
    },
    {
      "cell_type": "code",
      "metadata": {
        "colab": {
          "base_uri": "https://localhost:8080/"
        },
        "id": "SiOC79rC7di9",
        "outputId": "6cd7b51c-6778-4e87-c190-281e521cc83d"
      },
      "source": [
        "import numpy as np\n",
        "array = np.full(10, 5) # filling array with 10 fives\n",
        "print(array)"
      ],
      "execution_count": null,
      "outputs": [
        {
          "output_type": "stream",
          "text": [
            "[5 5 5 5 5 5 5 5 5 5]\n"
          ],
          "name": "stdout"
        }
      ]
    },
    {
      "cell_type": "markdown",
      "metadata": {
        "id": "LC_IKXv88aZe"
      },
      "source": [
        "Question 2\n",
        "<br>\n",
        "Create an array of all even integers between 10 to 50"
      ]
    },
    {
      "cell_type": "code",
      "metadata": {
        "colab": {
          "base_uri": "https://localhost:8080/"
        },
        "id": "qovryPUo8Zp4",
        "outputId": "05ef31e1-2226-492a-c694-8241b34ef735"
      },
      "source": [
        "import numpy as np\n",
        "array=np.arange(10, 51, 2) # even numbers from 10-50 (step val 2)\n",
        "print(array) "
      ],
      "execution_count": null,
      "outputs": [
        {
          "output_type": "stream",
          "text": [
            "[10 12 14 16 18 20 22 24 26 28 30 32 34 36 38 40 42 44 46 48 50]\n"
          ],
          "name": "stdout"
        }
      ]
    },
    {
      "cell_type": "markdown",
      "metadata": {
        "id": "fQehkZd59fOt"
      },
      "source": [
        "Question 3\n",
        "<br>\n",
        "Create a 4x4 matrix"
      ]
    },
    {
      "cell_type": "code",
      "metadata": {
        "colab": {
          "base_uri": "https://localhost:8080/"
        },
        "id": "7rtBlc0I9yQT",
        "outputId": "0d946afa-ef32-4829-e4fa-2b970543cec3"
      },
      "source": [
        "import numpy as np\n",
        "array = np.full(16,1).reshape(4,4)\n",
        "print(array)"
      ],
      "execution_count": null,
      "outputs": [
        {
          "output_type": "stream",
          "text": [
            "[[1 1 1 1]\n",
            " [1 1 1 1]\n",
            " [1 1 1 1]\n",
            " [1 1 1 1]]\n"
          ],
          "name": "stdout"
        }
      ]
    },
    {
      "cell_type": "markdown",
      "metadata": {
        "id": "1bMVZzS1_vDz"
      },
      "source": [
        "Question 4\n",
        "<br>\n",
        "Use numpy to generate an array of 25 random numbers sampled from a standard\n",
        "normal distribution."
      ]
    },
    {
      "cell_type": "code",
      "metadata": {
        "colab": {
          "base_uri": "https://localhost:8080/"
        },
        "id": "OKwuMf4N_1AH",
        "outputId": "5320f98f-fc31-476e-9575-66a0fdaefa50"
      },
      "source": [
        "import numpy as np\n",
        "import numpy as np\n",
        "array = np.random.normal(0,1,25)\n",
        "print(array)"
      ],
      "execution_count": null,
      "outputs": [
        {
          "output_type": "stream",
          "text": [
            "[ 0.29386503  0.89989723 -0.99389772 -0.74274821  1.71001826  0.43476319\n",
            "  0.09898987  1.42501792  1.79131446  0.08238828  1.07876469 -1.1411801\n",
            "  1.03831976  0.08326986 -0.78169148  0.27723995 -0.19114957 -0.57068542\n",
            " -0.00644479  0.79947907 -2.36734976  0.63611834  0.1382741  -0.4999919\n",
            "  0.09751843]\n"
          ],
          "name": "stdout"
        }
      ]
    },
    {
      "cell_type": "markdown",
      "metadata": {
        "id": "mnCXwNGeAuOI"
      },
      "source": [
        "Question 6\n",
        "<br>\n",
        "(a) Output the given matrix using numpy.\n",
        "<br>\n",
        "Matrix: \n",
        "`[[ 1 2 3 4 5 ]`<br>\n",
        "`[ 6 7 8 9 10]`<br>\n",
        "`[11 12 13 14 15]`<br>\n",
        "`[16 17 18 19 20]`<br>\n",
        "`[ 21 22 23 24 25]]`"
      ]
    },
    {
      "cell_type": "code",
      "metadata": {
        "colab": {
          "base_uri": "https://localhost:8080/"
        },
        "id": "Yp02IRMQBOSP",
        "outputId": "6d301260-d270-4728-f996-40db9175f5e0"
      },
      "source": [
        "import numpy as np\n",
        "\n",
        "array = np.arange(1,26).reshape(5,5)\n",
        "print(array)"
      ],
      "execution_count": null,
      "outputs": [
        {
          "output_type": "stream",
          "text": [
            "[[ 1  2  3  4  5]\n",
            " [ 6  7  8  9 10]\n",
            " [11 12 13 14 15]\n",
            " [16 17 18 19 20]\n",
            " [21 22 23 24 25]]\n"
          ],
          "name": "stdout"
        }
      ]
    },
    {
      "cell_type": "markdown",
      "metadata": {
        "id": "vmh0WYeACC_e"
      },
      "source": [
        "By referring the above matrix output given matrix.<br>\n",
        "([[ 12 13 14 15]\n",
        "17 18 19 20]\n",
        "22 23 24 25 ]])"
      ]
    },
    {
      "cell_type": "code",
      "metadata": {
        "colab": {
          "base_uri": "https://localhost:8080/"
        },
        "id": "Rttp7-Orxh3j",
        "outputId": "0595a67a-63a4-4180-f87b-0a4ada8ef9e0"
      },
      "source": [
        "import numpy as np\n",
        "\n",
        "array = np.arange(1,26).reshape(5,5)\n",
        "\n",
        "mat = np.matrix(array)\n",
        "rowDel = np.delete(mat, (0,1), 0)\n",
        "colDel = np.delete(rowDel, 0, 1)\n",
        "print(colDel)\n",
        "\n"
      ],
      "execution_count": null,
      "outputs": [
        {
          "output_type": "stream",
          "text": [
            "[[12 13 14 15]\n",
            " [17 18 19 20]\n",
            " [22 23 24 25]]\n"
          ],
          "name": "stdout"
        }
      ]
    },
    {
      "cell_type": "markdown",
      "metadata": {
        "id": "HSdqf-qL0I7P"
      },
      "source": [
        "Grab number ‘20’ from the matrix."
      ]
    },
    {
      "cell_type": "code",
      "metadata": {
        "colab": {
          "base_uri": "https://localhost:8080/"
        },
        "id": "VqKgPMrt0M3l",
        "outputId": "5bde5420-1514-480d-d3f0-c6fb714fb214"
      },
      "source": [
        "colDel.item(7)"
      ],
      "execution_count": null,
      "outputs": [
        {
          "output_type": "execute_result",
          "data": {
            "text/plain": [
              "20"
            ]
          },
          "metadata": {
            "tags": []
          },
          "execution_count": 32
        }
      ]
    },
    {
      "cell_type": "markdown",
      "metadata": {
        "id": "l1J9XdUC1R0X"
      },
      "source": [
        "Get the standard deviation of the values in the matrix."
      ]
    },
    {
      "cell_type": "code",
      "metadata": {
        "colab": {
          "base_uri": "https://localhost:8080/"
        },
        "id": "kXkNQsZ21KXH",
        "outputId": "404e0866-2e85-4b66-821d-1efffd61fe79"
      },
      "source": [
        "np.std(mat)"
      ],
      "execution_count": null,
      "outputs": [
        {
          "output_type": "execute_result",
          "data": {
            "text/plain": [
              "7.211102550927978"
            ]
          },
          "metadata": {
            "tags": []
          },
          "execution_count": 33
        }
      ]
    },
    {
      "cell_type": "markdown",
      "metadata": {
        "id": "Sff1MrSq1lFx"
      },
      "source": [
        "Output this array ([[ 2 ]\n",
        "[ 7 ]\n",
        "[12 ]])"
      ]
    },
    {
      "cell_type": "code",
      "metadata": {
        "colab": {
          "base_uri": "https://localhost:8080/"
        },
        "id": "APgbdboX1obz",
        "outputId": "57ab4a63-af14-48e3-a4e9-6aa3cca1cb41"
      },
      "source": [
        "x = np.delete(mat, (3, 4), 0)\n",
        "y = np.delete(x, (0, 2, 3, 4), 1)\n",
        "print(y)"
      ],
      "execution_count": null,
      "outputs": [
        {
          "output_type": "stream",
          "text": [
            "[[ 2]\n",
            " [ 7]\n",
            " [12]]\n"
          ],
          "name": "stdout"
        }
      ]
    },
    {
      "cell_type": "markdown",
      "metadata": {
        "id": "7yxgSVq02DxZ"
      },
      "source": [
        "Get the standard deviation of the values in the matrix"
      ]
    },
    {
      "cell_type": "code",
      "metadata": {
        "colab": {
          "base_uri": "https://localhost:8080/"
        },
        "id": "Zs2Pg1Bg2DZ7",
        "outputId": "e00613b4-11dd-445b-83dc-9a62198f0ba8"
      },
      "source": [
        "np.std(y)"
      ],
      "execution_count": null,
      "outputs": [
        {
          "output_type": "execute_result",
          "data": {
            "text/plain": [
              "4.08248290463863"
            ]
          },
          "metadata": {
            "tags": []
          },
          "execution_count": 37
        }
      ]
    },
    {
      "cell_type": "markdown",
      "metadata": {
        "id": "ZpUFpyP62V5J"
      },
      "source": [
        "Sum of the columns in the matrix"
      ]
    },
    {
      "cell_type": "code",
      "metadata": {
        "colab": {
          "base_uri": "https://localhost:8080/"
        },
        "id": "vmnvfqrx2QgE",
        "outputId": "92bdd265-bcab-46cb-a42a-b4f52675bfe8"
      },
      "source": [
        "np.matrix.sum(y)"
      ],
      "execution_count": null,
      "outputs": [
        {
          "output_type": "execute_result",
          "data": {
            "text/plain": [
              "21"
            ]
          },
          "metadata": {
            "tags": []
          },
          "execution_count": 38
        }
      ]
    }
  ]
}